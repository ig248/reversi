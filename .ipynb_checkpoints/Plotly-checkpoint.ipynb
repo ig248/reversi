{
 "cells": [
  {
   "cell_type": "code",
   "execution_count": 20,
   "metadata": {
    "collapsed": false
   },
   "outputs": [
    {
     "name": "stdout",
     "output_type": "stream",
     "text": [
      "Plotly v2.0.5\n"
     ]
    }
   ],
   "source": [
    "import plotly\n",
    "print 'Plotly v%s' % plotly.__version__\n",
    "#??? plotly.offline.init_notebook_mode(connected=False)\n",
    "import plotly.offline as py\n",
    "from plotly.graph_objs import Scatter, Layout"
   ]
  },
  {
   "cell_type": "code",
   "execution_count": 52,
   "metadata": {
    "collapsed": false
   },
   "outputs": [
    {
     "data": {
      "application/vnd.plotly.v1+json": {
       "data": [
        {
         "type": "scatter",
         "x": [
          1,
          2,
          3,
          4
         ],
         "y": [
          4,
          3,
          2,
          1
         ]
        }
       ],
       "layout": {
        "title": "hello world"
       }
      },
      "text/html": [
       "<div id=\"fb7172f2-520f-4ff4-bde4-492d42eeff91\" style=\"height: 525px; width: 100%;\" class=\"plotly-graph-div\"></div><script type=\"text/javascript\">require([\"plotly\"], function(Plotly) { window.PLOTLYENV=window.PLOTLYENV || {};window.PLOTLYENV.BASE_URL=\"https://plot.ly\";Plotly.newPlot(\"fb7172f2-520f-4ff4-bde4-492d42eeff91\", [{\"y\": [4, 3, 2, 1], \"x\": [1, 2, 3, 4], \"type\": \"scatter\"}], {\"title\": \"hello world\"}, {\"linkText\": \"Export to plot.ly\", \"showLink\": true})});</script>"
      ]
     },
     "metadata": {},
     "output_type": "display_data"
    }
   ],
   "source": [
    "figure = {\n",
    "    \"data\": [Scatter(x=[1, 2, 3, 4], y=[4, 3, 2, 1])],\n",
    "    \"layout\": Layout(title=\"hello world\")\n",
    "}\n",
    "py.iplot(figure)\n",
    "html = py.plot(figure, show_link=False, filename='test1.html',\n",
    "               auto_open=False, include_plotlyjs=True)"
   ]
  },
  {
   "cell_type": "code",
   "execution_count": 28,
   "metadata": {
    "collapsed": false
   },
   "outputs": [
    {
     "data": {
      "text/html": [
       "<div>\n",
       "<table border=\"1\" class=\"dataframe\">\n",
       "  <thead>\n",
       "    <tr style=\"text-align: right;\">\n",
       "      <th></th>\n",
       "      <th>Unnamed: 0</th>\n",
       "      <th>continent</th>\n",
       "      <th>country</th>\n",
       "      <th>gdp_percap</th>\n",
       "      <th>life_exp</th>\n",
       "    </tr>\n",
       "  </thead>\n",
       "  <tbody>\n",
       "    <tr>\n",
       "      <th>0</th>\n",
       "      <td>0</td>\n",
       "      <td>Americas</td>\n",
       "      <td>Country: Argentina&lt;br&gt;Population: 40301927.0</td>\n",
       "      <td>12779.379640</td>\n",
       "      <td>75.320</td>\n",
       "    </tr>\n",
       "    <tr>\n",
       "      <th>1</th>\n",
       "      <td>1</td>\n",
       "      <td>Americas</td>\n",
       "      <td>Country: Bolivia&lt;br&gt;Population: 9119152.0</td>\n",
       "      <td>3822.137084</td>\n",
       "      <td>65.554</td>\n",
       "    </tr>\n",
       "    <tr>\n",
       "      <th>2</th>\n",
       "      <td>2</td>\n",
       "      <td>Americas</td>\n",
       "      <td>Country: Brazil&lt;br&gt;Population: 190010647.0</td>\n",
       "      <td>9065.800825</td>\n",
       "      <td>72.390</td>\n",
       "    </tr>\n",
       "    <tr>\n",
       "      <th>3</th>\n",
       "      <td>3</td>\n",
       "      <td>Americas</td>\n",
       "      <td>Country: Canada&lt;br&gt;Population: 33390141.0</td>\n",
       "      <td>36319.235010</td>\n",
       "      <td>80.653</td>\n",
       "    </tr>\n",
       "    <tr>\n",
       "      <th>4</th>\n",
       "      <td>4</td>\n",
       "      <td>Americas</td>\n",
       "      <td>Country: Chile&lt;br&gt;Population: 16284741.0</td>\n",
       "      <td>13171.638850</td>\n",
       "      <td>78.553</td>\n",
       "    </tr>\n",
       "  </tbody>\n",
       "</table>\n",
       "</div>"
      ],
      "text/plain": [
       "   Unnamed: 0 continent                                       country  \\\n",
       "0           0  Americas  Country: Argentina<br>Population: 40301927.0   \n",
       "1           1  Americas     Country: Bolivia<br>Population: 9119152.0   \n",
       "2           2  Americas    Country: Brazil<br>Population: 190010647.0   \n",
       "3           3  Americas     Country: Canada<br>Population: 33390141.0   \n",
       "4           4  Americas      Country: Chile<br>Population: 16284741.0   \n",
       "\n",
       "     gdp_percap  life_exp  \n",
       "0  12779.379640    75.320  \n",
       "1   3822.137084    65.554  \n",
       "2   9065.800825    72.390  \n",
       "3  36319.235010    80.653  \n",
       "4  13171.638850    78.553  "
      ]
     },
     "execution_count": 28,
     "metadata": {},
     "output_type": "execute_result"
    }
   ],
   "source": [
    "df.head()"
   ]
  },
  {
   "cell_type": "code",
   "execution_count": 30,
   "metadata": {
    "collapsed": true
   },
   "outputs": [],
   "source": [
    "import plotly.graph_objs as go\n",
    "import pandas as pd\n",
    "df = pd.read_csv('https://raw.githubusercontent.com/yankev/test/master/life-expectancy-per-GDP-2007.csv')"
   ]
  },
  {
   "cell_type": "code",
   "execution_count": 37,
   "metadata": {
    "collapsed": false
   },
   "outputs": [
    {
     "data": {
      "application/vnd.plotly.v1+json": {
       "data": [
        {
         "marker": {
          "color": "red",
          "line": {
           "width": 1
          },
          "size": 12
         },
         "mode": "markers",
         "name": "Americas",
         "text": [
          "Country: Argentina<br>Population: 40301927.0",
          "Country: Bolivia<br>Population: 9119152.0",
          "Country: Brazil<br>Population: 190010647.0",
          "Country: Canada<br>Population: 33390141.0",
          "Country: Chile<br>Population: 16284741.0",
          "Country: Colombia<br>Population: 44227550.0",
          "Country: Costa Rica<br>Population: 4133884.0",
          "Country: Cuba<br>Population: 11416987.0",
          "Country: Dominican Republic<br>Population: 9319622.0",
          "Country: Ecuador<br>Population: 13755680.0",
          "Country: El Salvador<br>Population: 6939688.0",
          "Country: Guatemala<br>Population: 12572928.0",
          "Country: Haiti<br>Population: 8502814.0",
          "Country: Honduras<br>Population: 7483763.0",
          "Country: Jamaica<br>Population: 2780132.0",
          "Country: Mexico<br>Population: 108700891.0",
          "Country: Nicaragua<br>Population: 5675356.0",
          "Country: Panama<br>Population: 3242173.0",
          "Country: Paraguay<br>Population: 6667147.0",
          "Country: Peru<br>Population: 28674757.0",
          "Country: Puerto Rico<br>Population: 3942491.0",
          "Country: Trinidad and Tobago<br>Population: 1056608.0",
          "Country: United States<br>Population: 301139947.0",
          "Country: Uruguay<br>Population: 3447496.0",
          "Country: Venezuela<br>Population: 26084662.0"
         ],
         "type": "scatter",
         "x": [
          12779.379640000001,
          3822.1370840000004,
          9065.800825,
          36319.235010000004,
          13171.63885,
          7006.580419,
          9645.06142,
          8948.102923,
          6025.374752000001,
          6873.262326000001,
          5728.353514,
          5186.050003,
          1201.637154,
          3548.3308460000003,
          7320.880262000001,
          11977.57496,
          2749.320965,
          9809.185636,
          4172.838464,
          7408.905561,
          19328.70901,
          18008.50924,
          42951.65309,
          10611.46299,
          11415.805690000001
         ],
         "y": [
          75.32,
          65.554,
          72.39,
          80.653,
          78.553,
          72.889,
          78.782,
          78.273,
          72.235,
          74.994,
          71.878,
          70.259,
          60.916000000000004,
          70.19800000000001,
          72.567,
          76.195,
          72.899,
          75.53699999999999,
          71.752,
          71.421,
          78.74600000000001,
          69.819,
          78.242,
          76.384,
          73.747
         ]
        },
        {
         "marker": {
          "color": "blue",
          "line": {
           "width": 1
          },
          "size": 12
         },
         "mode": "markers",
         "name": "Europe",
         "text": [
          "Country: Albania<br>Population: 3600523.0",
          "Country: Austria<br>Population: 8199783.0",
          "Country: Belgium<br>Population: 10392226.0",
          "Country: Bosnia and Herzegovina<br>Population: 4552198.0",
          "Country: Bulgaria<br>Population: 7322858.0",
          "Country: Croatia<br>Population: 4493312.0",
          "Country: Czech Republic<br>Population: 10228744.0",
          "Country: Denmark<br>Population: 5468120.0",
          "Country: Finland<br>Population: 5238460.0",
          "Country: France<br>Population: 61083916.0",
          "Country: Germany<br>Population: 82400996.0",
          "Country: Greece<br>Population: 10706290.0",
          "Country: Hungary<br>Population: 9956108.0",
          "Country: Iceland<br>Population: 301931.0",
          "Country: Ireland<br>Population: 4109086.0",
          "Country: Italy<br>Population: 58147733.0",
          "Country: Montenegro<br>Population: 684736.0",
          "Country: Netherlands<br>Population: 16570613.0",
          "Country: Norway<br>Population: 4627926.0",
          "Country: Poland<br>Population: 38518241.0",
          "Country: Portugal<br>Population: 10642836.0",
          "Country: Romania<br>Population: 22276056.0",
          "Country: Serbia<br>Population: 10150265.0",
          "Country: Slovak Republic<br>Population: 5447502.0",
          "Country: Slovenia<br>Population: 2009245.0",
          "Country: Spain<br>Population: 40448191.0",
          "Country: Sweden<br>Population: 9031088.0",
          "Country: Switzerland<br>Population: 7554661.0",
          "Country: Turkey<br>Population: 71158647.0",
          "Country: United Kingdom<br>Population: 60776238.0"
         ],
         "type": "scatter",
         "x": [
          5937.029525999999,
          36126.4927,
          33692.60508,
          7446.298803,
          10680.79282,
          14619.222719999998,
          22833.30851,
          35278.41874,
          33207.0844,
          30470.0167,
          32170.37442,
          27538.41188,
          18008.94444,
          36180.789189999996,
          40675.99635,
          28569.7197,
          9253.896111,
          36797.93332,
          49357.19017,
          15389.924680000002,
          20509.64777,
          10808.47561,
          9786.534714,
          18678.31435,
          25768.25759,
          28821.0637,
          33859.74835,
          37506.419069999996,
          8458.276384,
          33203.26128
         ],
         "y": [
          76.423,
          79.829,
          79.441,
          74.852,
          73.005,
          75.748,
          76.486,
          78.332,
          79.313,
          80.657,
          79.406,
          79.483,
          73.33800000000001,
          81.757,
          78.885,
          80.546,
          74.543,
          79.762,
          80.196,
          75.563,
          78.098,
          72.476,
          74.002,
          74.663,
          77.926,
          80.941,
          80.884,
          81.70100000000001,
          71.777,
          79.425
         ]
        }
       ],
       "layout": {
        "hovermode": "closest",
        "shapes": [
         {
          "fillcolor": "#d3d3d3",
          "line": {
           "width": 0
          },
          "opacity": 0.2,
          "type": "rect",
          "x0": 0,
          "x1": 50,
          "xref": "x",
          "y0": 70,
          "y1": 100,
          "yref": "y"
         }
        ],
        "title": "Life Expectancy v. Per Capita GDP, 2007",
        "xaxis": {
         "gridwidth": 2,
         "ticklen": 0,
         "title": "GDP per capita (2000 dollars)",
         "zeroline": false
        },
        "yaxis": {
         "gridwidth": 2,
         "ticklen": 0,
         "title": "Life Expectancy (years)"
        }
       }
      },
      "text/html": [
       "<div id=\"b818d3ad-5234-4a88-9ed1-7b4dfdbc0d59\" style=\"height: 525px; width: 100%;\" class=\"plotly-graph-div\"></div><script type=\"text/javascript\">require([\"plotly\"], function(Plotly) { window.PLOTLYENV=window.PLOTLYENV || {};window.PLOTLYENV.BASE_URL=\"https://plot.ly\";Plotly.newPlot(\"b818d3ad-5234-4a88-9ed1-7b4dfdbc0d59\", [{\"name\": \"Americas\", \"text\": [\"Country: Argentina<br>Population: 40301927.0\", \"Country: Bolivia<br>Population: 9119152.0\", \"Country: Brazil<br>Population: 190010647.0\", \"Country: Canada<br>Population: 33390141.0\", \"Country: Chile<br>Population: 16284741.0\", \"Country: Colombia<br>Population: 44227550.0\", \"Country: Costa Rica<br>Population: 4133884.0\", \"Country: Cuba<br>Population: 11416987.0\", \"Country: Dominican Republic<br>Population: 9319622.0\", \"Country: Ecuador<br>Population: 13755680.0\", \"Country: El Salvador<br>Population: 6939688.0\", \"Country: Guatemala<br>Population: 12572928.0\", \"Country: Haiti<br>Population: 8502814.0\", \"Country: Honduras<br>Population: 7483763.0\", \"Country: Jamaica<br>Population: 2780132.0\", \"Country: Mexico<br>Population: 108700891.0\", \"Country: Nicaragua<br>Population: 5675356.0\", \"Country: Panama<br>Population: 3242173.0\", \"Country: Paraguay<br>Population: 6667147.0\", \"Country: Peru<br>Population: 28674757.0\", \"Country: Puerto Rico<br>Population: 3942491.0\", \"Country: Trinidad and Tobago<br>Population: 1056608.0\", \"Country: United States<br>Population: 301139947.0\", \"Country: Uruguay<br>Population: 3447496.0\", \"Country: Venezuela<br>Population: 26084662.0\"], \"marker\": {\"color\": \"red\", \"line\": {\"width\": 1}, \"size\": 12}, \"mode\": \"markers\", \"y\": [75.32, 65.554, 72.39, 80.653, 78.553, 72.889, 78.782, 78.273, 72.235, 74.994, 71.878, 70.259, 60.916000000000004, 70.19800000000001, 72.567, 76.195, 72.899, 75.53699999999999, 71.752, 71.421, 78.74600000000001, 69.819, 78.242, 76.384, 73.747], \"x\": [12779.379640000001, 3822.1370840000004, 9065.800825, 36319.235010000004, 13171.63885, 7006.580419, 9645.06142, 8948.102923, 6025.374752000001, 6873.262326000001, 5728.353514, 5186.050003, 1201.637154, 3548.3308460000003, 7320.880262000001, 11977.57496, 2749.320965, 9809.185636, 4172.838464, 7408.905561, 19328.70901, 18008.50924, 42951.65309, 10611.46299, 11415.805690000001], \"type\": \"scatter\"}, {\"name\": \"Europe\", \"text\": [\"Country: Albania<br>Population: 3600523.0\", \"Country: Austria<br>Population: 8199783.0\", \"Country: Belgium<br>Population: 10392226.0\", \"Country: Bosnia and Herzegovina<br>Population: 4552198.0\", \"Country: Bulgaria<br>Population: 7322858.0\", \"Country: Croatia<br>Population: 4493312.0\", \"Country: Czech Republic<br>Population: 10228744.0\", \"Country: Denmark<br>Population: 5468120.0\", \"Country: Finland<br>Population: 5238460.0\", \"Country: France<br>Population: 61083916.0\", \"Country: Germany<br>Population: 82400996.0\", \"Country: Greece<br>Population: 10706290.0\", \"Country: Hungary<br>Population: 9956108.0\", \"Country: Iceland<br>Population: 301931.0\", \"Country: Ireland<br>Population: 4109086.0\", \"Country: Italy<br>Population: 58147733.0\", \"Country: Montenegro<br>Population: 684736.0\", \"Country: Netherlands<br>Population: 16570613.0\", \"Country: Norway<br>Population: 4627926.0\", \"Country: Poland<br>Population: 38518241.0\", \"Country: Portugal<br>Population: 10642836.0\", \"Country: Romania<br>Population: 22276056.0\", \"Country: Serbia<br>Population: 10150265.0\", \"Country: Slovak Republic<br>Population: 5447502.0\", \"Country: Slovenia<br>Population: 2009245.0\", \"Country: Spain<br>Population: 40448191.0\", \"Country: Sweden<br>Population: 9031088.0\", \"Country: Switzerland<br>Population: 7554661.0\", \"Country: Turkey<br>Population: 71158647.0\", \"Country: United Kingdom<br>Population: 60776238.0\"], \"marker\": {\"color\": \"blue\", \"line\": {\"width\": 1}, \"size\": 12}, \"mode\": \"markers\", \"y\": [76.423, 79.829, 79.441, 74.852, 73.005, 75.748, 76.486, 78.332, 79.313, 80.657, 79.406, 79.483, 73.33800000000001, 81.757, 78.885, 80.546, 74.543, 79.762, 80.196, 75.563, 78.098, 72.476, 74.002, 74.663, 77.926, 80.941, 80.884, 81.70100000000001, 71.777, 79.425], \"x\": [5937.029525999999, 36126.4927, 33692.60508, 7446.298803, 10680.79282, 14619.222719999998, 22833.30851, 35278.41874, 33207.0844, 30470.0167, 32170.37442, 27538.41188, 18008.94444, 36180.789189999996, 40675.99635, 28569.7197, 9253.896111, 36797.93332, 49357.19017, 15389.924680000002, 20509.64777, 10808.47561, 9786.534714, 18678.31435, 25768.25759, 28821.0637, 33859.74835, 37506.419069999996, 8458.276384, 33203.26128], \"type\": \"scatter\"}], {\"shapes\": [{\"opacity\": 0.2, \"xref\": \"x\", \"yref\": \"y\", \"fillcolor\": \"#d3d3d3\", \"y1\": 100, \"y0\": 70, \"x0\": 0, \"x1\": 50, \"type\": \"rect\", \"line\": {\"width\": 0}}], \"hovermode\": \"closest\", \"title\": \"Life Expectancy v. Per Capita GDP, 2007\", \"xaxis\": {\"zeroline\": false, \"ticklen\": 0, \"gridwidth\": 2, \"title\": \"GDP per capita (2000 dollars)\"}, \"yaxis\": {\"ticklen\": 0, \"gridwidth\": 2, \"title\": \"Life Expectancy (years)\"}}, {\"linkText\": \"Export to plot.ly\", \"showLink\": true})});</script>"
      ]
     },
     "metadata": {},
     "output_type": "display_data"
    }
   ],
   "source": [
    "def continent_trace(continent, color):\n",
    "    subf = df[(df.continent==continent)];\n",
    "    return go.Scatter(\n",
    "    x=subf.gdp_percap,\n",
    "    y=subf.life_exp,\n",
    "    mode='markers',\n",
    "    marker=dict(size=12,\n",
    "                line=dict(width=1),\n",
    "                color=color\n",
    "               ),\n",
    "    name=str.title(continent),\n",
    "    text=subf.country,\n",
    "    )\n",
    "    \n",
    "data_comp = [\n",
    "    continent_trace(continent, color)\n",
    "    for continent, color in [\n",
    "        ('Americas', 'red'),\n",
    "        ('Europe', 'blue'),\n",
    "    ]\n",
    "]\n",
    "\n",
    "layout_comp = go.Layout(\n",
    "    title='Life Expectancy v. Per Capita GDP, 2007',\n",
    "    hovermode='closest',\n",
    "    xaxis=dict(\n",
    "        title='GDP per capita (2000 dollars)',\n",
    "        ticklen=0,\n",
    "        zeroline=False,\n",
    "        gridwidth=2,\n",
    "    ),\n",
    "    yaxis=dict(\n",
    "        title='Life Expectancy (years)',\n",
    "        ticklen=0,\n",
    "        gridwidth=2,\n",
    "    ),\n",
    ")\n",
    "\n",
    "\n",
    "layout_comp.update(dict(shapes = [\n",
    "        {\n",
    "            'type': 'rect',\n",
    "            # x-reference is assigned to the x-values\n",
    "            'xref': 'x',\n",
    "            # y-reference is assigned to the plot paper [0,1]\n",
    "            'yref': 'y',\n",
    "            'x0': 0,\n",
    "            'y0': 70,\n",
    "            'x1': 50,\n",
    "            'y1': 100,\n",
    "            'fillcolor': '#d3d3d3',\n",
    "            'opacity': 0.2,\n",
    "            'line': {\n",
    "                'width': 0,\n",
    "            }\n",
    "        }]\n",
    "        ))\n",
    "\n",
    "fig_comp = go.Figure(data=data_comp, layout=layout_comp)\n",
    "py.iplot(fig_comp, filename='life-expectancy-per-GDP-2007')"
   ]
  },
  {
   "cell_type": "code",
   "execution_count": null,
   "metadata": {
    "collapsed": true
   },
   "outputs": [],
   "source": []
  }
 ],
 "metadata": {
  "anaconda-cloud": {},
  "kernelspec": {
   "display_name": "Python [default]",
   "language": "python",
   "name": "python2"
  },
  "language_info": {
   "codemirror_mode": {
    "name": "ipython",
    "version": 2
   },
   "file_extension": ".py",
   "mimetype": "text/x-python",
   "name": "python",
   "nbconvert_exporter": "python",
   "pygments_lexer": "ipython2",
   "version": "2.7.12"
  }
 },
 "nbformat": 4,
 "nbformat_minor": 2
}
