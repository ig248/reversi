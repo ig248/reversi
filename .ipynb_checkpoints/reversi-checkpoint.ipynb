{
 "cells": [
  {
   "cell_type": "code",
   "execution_count": 14,
   "metadata": {
    "collapsed": true
   },
   "outputs": [],
   "source": [
    "import numpy as np"
   ]
  },
  {
   "cell_type": "code",
   "execution_count": 109,
   "metadata": {},
   "outputs": [],
   "source": [
    "PLAYER_B = 1\n",
    "PLAYER_W = -PLAYER_B\n",
    "CELL_EMPTY = 0\n",
    "\n",
    "def shift_indices(shift, side):\n",
    "    \"\"\"get indices for shifting array in one dimension\"\"\"\n",
    "    if shift == 0:\n",
    "        orig_idx = range(side)\n",
    "        shifted_idx = range(side)\n",
    "    elif shift > 0:\n",
    "        orig_idx = range(side - shift)\n",
    "        shifted_idx = range(shift, side)\n",
    "    elif shift < 0:\n",
    "        orig_idx = range(-shift, side)\n",
    "        shifted_idx = range(side + shift)\n",
    "    else:\n",
    "        orig_idx, shifted_idx = None, None\n",
    "    return orig_idx, shifted_idx\n",
    "\n",
    "class Game(object):\n",
    "    side = 8\n",
    "    \n",
    "    def __init__(self):\n",
    "        \"\"\"Reset board to starting position\"\"\"\n",
    "        self.reset()\n",
    "        self.turn = PLAYER_B # whos turn is next\n",
    "    \n",
    "    def reset(self):\n",
    "        \"\"\"Reset board to starting position\"\"\"\n",
    "        self.board = np.zeros((self.side, self.side), dtype=np.int8)\n",
    "        # 1 = black, -1 = white\n",
    "        self.board[4, 3] = 1\n",
    "        self.board[3, 4] = 1\n",
    "        self.board[3, 3] = -1\n",
    "        self.board[4, 4] = -1\n",
    "    \n",
    "    def _turn_candidates_neighbours(self):\n",
    "        \"\"\"List neighbours that would make turn candidates\n",
    "        a cell is a good candidate if (a) it is empty and (b) any neighbour is the opposite of self.turn\n",
    "        \"\"\"\n",
    "        empty_cells = np.zeros((self.side, self.side), dtype=np.int8)\n",
    "        empty_cells[self.board == CELL_EMPTY] = 1\n",
    "        # suitable neighbours with opponents stones\n",
    "        opponent_cells = np.zeros((self.side, self.side), dtype=np.int8)\n",
    "        opponent_cells[self.board == self.opponent] = 1\n",
    "        # 8 possible directions to a neighbour\n",
    "        shifts = np.array([(xs, ys) for xs in [-1, 0, 1] for ys in [-1, 0, 1] if xs or ys])\n",
    "        # an 8x8x9 array of conditions \n",
    "        neighbour_array = np.zeros((len(shifts), self.side, self.side), dtype=np.int8)\n",
    "        for idx, (rs, cs) in enumerate(shifts):\n",
    "            ridx_orig, ridx_shifted = shift_indices(rs, self.side)\n",
    "            cidx_orig, cidx_shifted = shift_indices(cs, self.side)\n",
    "            print rs, ridx_orig, ridx_shifted\n",
    "            print cs, cidx_orig, cidx_shifted\n",
    "            print opponent_cells[np.ix_(ridx_orig, cidx_orig)]\n",
    "            neighbour_array[np.ix_([idx], ridx_shifted, cidx_shifted)] = opponent_cells[np.ix_(ridx_orig, cidx_orig)]\n",
    "        # cells that have a neighbour of opponent's colour\n",
    "        cells_with_opponent_neighbours = np.any(neighbour_array, axis=0)\n",
    "        candidates = np.logical_and(empty_cells, cells_with_opponent_neighbours)\n",
    "        return candidates\n",
    "        \n",
    "    def _turn(self, r, c):\n",
    "        \"\"\"Attempt to place the next piece at (r, c)\n",
    "        Turn is decided based on self.turn\n",
    "        \"\"\"\n",
    "        pass\n",
    "    \n",
    "    @property\n",
    "    def player(self):\n",
    "        \"\"\"current player\"\"\"\n",
    "        return self.turn\n",
    "    \n",
    "    @property\n",
    "    def opponent(self):\n",
    "        \"\"\"opponent player\"\"\"\n",
    "        return -self.turn\n",
    "    \n",
    "    @property\n",
    "    def score(self):\n",
    "        \"\"\"Compute totals for each player\"\"\"\n",
    "        counts = dict(zip(*np.unique(self.board, return_counts=True)))\n",
    "        b, w = counts[1], counts[-1]\n",
    "        return b, w\n",
    "    \n",
    "    def __repr__(self):\n",
    "        return str(self)\n",
    "    \n",
    "    def __str__(self):\n",
    "        \"\"\"Return a string representation of the board\"\"\"\n",
    "        chars = {\n",
    "            0: \".\",\n",
    "            1: \"Ø\",  #®\n",
    "            -1: \"O\",  #©\n",
    "        }\n",
    "        def row_str(row):\n",
    "            cell_chars = [chars[r] for r in row]\n",
    "            return ''.join(cell_chars)\n",
    "        row_strings = [row_str(row) for row in self.board]\n",
    "        score_string = 'Score: B=%d, W=%d' % self.score\n",
    "        turn_string = 'Next turn: %s' % ('B' if self.turn == PLAYER_B else 'W')\n",
    "        return '\\n'.join([score_string, turn_string] + row_strings) \n",
    "        \n",
    "    "
   ]
  },
  {
   "cell_type": "code",
   "execution_count": 110,
   "metadata": {},
   "outputs": [
    {
     "name": "stdout",
     "output_type": "stream",
     "text": [
      "Score: B=2, W=2\n",
      "Next turn: B\n",
      "........\n",
      "........\n",
      "........\n",
      "...OØ...\n",
      "...ØO...\n",
      "........\n",
      "........\n",
      "........\n"
     ]
    }
   ],
   "source": [
    "g = Game()\n",
    "print g"
   ]
  },
  {
   "cell_type": "code",
   "execution_count": 111,
   "metadata": {},
   "outputs": [
    {
     "name": "stdout",
     "output_type": "stream",
     "text": [
      "-1 [1, 2, 3, 4, 5, 6, 7] [0, 1, 2, 3, 4, 5, 6]\n",
      "-1 [1, 2, 3, 4, 5, 6, 7] [0, 1, 2, 3, 4, 5, 6]\n",
      "[[0 0 0 0 0 0 0]\n",
      " [0 0 0 0 0 0 0]\n",
      " [0 0 1 0 0 0 0]\n",
      " [0 0 0 1 0 0 0]\n",
      " [0 0 0 0 0 0 0]\n",
      " [0 0 0 0 0 0 0]\n",
      " [0 0 0 0 0 0 0]]\n"
     ]
    },
    {
     "ename": "ValueError",
     "evalue": "Cross index must be 1 dimensional",
     "output_type": "error",
     "traceback": [
      "\u001b[1;31m---------------------------------------------------------------------------\u001b[0m",
      "\u001b[1;31mValueError\u001b[0m                                Traceback (most recent call last)",
      "\u001b[1;32m<ipython-input-111-186ff10c2caa>\u001b[0m in \u001b[0;36m<module>\u001b[1;34m()\u001b[0m\n\u001b[1;32m----> 1\u001b[1;33m \u001b[0mg\u001b[0m\u001b[1;33m.\u001b[0m\u001b[0m_turn_candidates_neighbours\u001b[0m\u001b[1;33m(\u001b[0m\u001b[1;33m)\u001b[0m\u001b[1;33m\u001b[0m\u001b[0m\n\u001b[0m",
      "\u001b[1;32m<ipython-input-109-26df5e30edb2>\u001b[0m in \u001b[0;36m_turn_candidates_neighbours\u001b[1;34m(self)\u001b[0m\n\u001b[0;32m     54\u001b[0m             \u001b[1;32mprint\u001b[0m \u001b[0mcs\u001b[0m\u001b[1;33m,\u001b[0m \u001b[0mcidx_orig\u001b[0m\u001b[1;33m,\u001b[0m \u001b[0mcidx_shifted\u001b[0m\u001b[1;33m\u001b[0m\u001b[0m\n\u001b[0;32m     55\u001b[0m             \u001b[1;32mprint\u001b[0m \u001b[0mopponent_cells\u001b[0m\u001b[1;33m[\u001b[0m\u001b[0mnp\u001b[0m\u001b[1;33m.\u001b[0m\u001b[0mix_\u001b[0m\u001b[1;33m(\u001b[0m\u001b[0mridx_orig\u001b[0m\u001b[1;33m,\u001b[0m \u001b[0mcidx_orig\u001b[0m\u001b[1;33m)\u001b[0m\u001b[1;33m]\u001b[0m\u001b[1;33m\u001b[0m\u001b[0m\n\u001b[1;32m---> 56\u001b[1;33m             \u001b[0mneighbour_array\u001b[0m\u001b[1;33m[\u001b[0m\u001b[0mnp\u001b[0m\u001b[1;33m.\u001b[0m\u001b[0mix_\u001b[0m\u001b[1;33m(\u001b[0m\u001b[0midx\u001b[0m\u001b[1;33m,\u001b[0m \u001b[0mridx_shifted\u001b[0m\u001b[1;33m,\u001b[0m \u001b[0mcidx_shifted\u001b[0m\u001b[1;33m)\u001b[0m\u001b[1;33m]\u001b[0m \u001b[1;33m=\u001b[0m \u001b[0mopponent_cells\u001b[0m\u001b[1;33m[\u001b[0m\u001b[0mnp\u001b[0m\u001b[1;33m.\u001b[0m\u001b[0mix_\u001b[0m\u001b[1;33m(\u001b[0m\u001b[0mridx_orig\u001b[0m\u001b[1;33m,\u001b[0m \u001b[0mcidx_orig\u001b[0m\u001b[1;33m)\u001b[0m\u001b[1;33m]\u001b[0m\u001b[1;33m\u001b[0m\u001b[0m\n\u001b[0m\u001b[0;32m     57\u001b[0m         \u001b[1;31m# cells that have a neighbour of opponent's colour\u001b[0m\u001b[1;33m\u001b[0m\u001b[1;33m\u001b[0m\u001b[0m\n\u001b[0;32m     58\u001b[0m         \u001b[0mcells_with_opponent_neighbours\u001b[0m \u001b[1;33m=\u001b[0m \u001b[0mnp\u001b[0m\u001b[1;33m.\u001b[0m\u001b[0many\u001b[0m\u001b[1;33m(\u001b[0m\u001b[0mneighbour_array\u001b[0m\u001b[1;33m,\u001b[0m \u001b[0maxis\u001b[0m\u001b[1;33m=\u001b[0m\u001b[1;36m0\u001b[0m\u001b[1;33m)\u001b[0m\u001b[1;33m\u001b[0m\u001b[0m\n",
      "\u001b[1;32mC:\\Conda\\lib\\site-packages\\numpy\\lib\\index_tricks.pyc\u001b[0m in \u001b[0;36mix_\u001b[1;34m(*args)\u001b[0m\n\u001b[0;32m     86\u001b[0m         \u001b[0mnew\u001b[0m \u001b[1;33m=\u001b[0m \u001b[0masarray\u001b[0m\u001b[1;33m(\u001b[0m\u001b[0mnew\u001b[0m\u001b[1;33m)\u001b[0m\u001b[1;33m\u001b[0m\u001b[0m\n\u001b[0;32m     87\u001b[0m         \u001b[1;32mif\u001b[0m \u001b[0mnew\u001b[0m\u001b[1;33m.\u001b[0m\u001b[0mndim\u001b[0m \u001b[1;33m!=\u001b[0m \u001b[1;36m1\u001b[0m\u001b[1;33m:\u001b[0m\u001b[1;33m\u001b[0m\u001b[0m\n\u001b[1;32m---> 88\u001b[1;33m             \u001b[1;32mraise\u001b[0m \u001b[0mValueError\u001b[0m\u001b[1;33m(\u001b[0m\u001b[1;34m\"Cross index must be 1 dimensional\"\u001b[0m\u001b[1;33m)\u001b[0m\u001b[1;33m\u001b[0m\u001b[0m\n\u001b[0m\u001b[0;32m     89\u001b[0m         \u001b[1;32mif\u001b[0m \u001b[0mnew\u001b[0m\u001b[1;33m.\u001b[0m\u001b[0msize\u001b[0m \u001b[1;33m==\u001b[0m \u001b[1;36m0\u001b[0m\u001b[1;33m:\u001b[0m\u001b[1;33m\u001b[0m\u001b[0m\n\u001b[0;32m     90\u001b[0m             \u001b[1;31m# Explicitly type empty arrays to avoid float default\u001b[0m\u001b[1;33m\u001b[0m\u001b[1;33m\u001b[0m\u001b[0m\n",
      "\u001b[1;31mValueError\u001b[0m: Cross index must be 1 dimensional"
     ]
    }
   ],
   "source": [
    "g._turn_candidates_neighbours()"
   ]
  },
  {
   "cell_type": "code",
   "execution_count": 68,
   "metadata": {
    "collapsed": true
   },
   "outputs": [],
   "source": [
    "a = np.arange(10)"
   ]
  },
  {
   "cell_type": "code",
   "execution_count": 99,
   "metadata": {},
   "outputs": [],
   "source": [
    "a= np.random.randn(5, 5)"
   ]
  },
  {
   "cell_type": "code",
   "execution_count": 105,
   "metadata": {},
   "outputs": [
    {
     "data": {
      "text/plain": [
       "array([[ 1.46617945,  1.26292987,  0.10698026, -0.45369496,  1.40839684],\n",
       "       [ 0.84714053, -1.20407414, -0.21107284,  2.20984298, -1.18921871]])"
      ]
     },
     "execution_count": 105,
     "metadata": {},
     "output_type": "execute_result"
    }
   ],
   "source": [
    "a[1:3]"
   ]
  },
  {
   "cell_type": "code",
   "execution_count": null,
   "metadata": {
    "collapsed": true
   },
   "outputs": [],
   "source": []
  }
 ],
 "metadata": {
  "anaconda-cloud": {},
  "kernelspec": {
   "display_name": "Python [default]",
   "language": "python",
   "name": "python2"
  },
  "language_info": {
   "codemirror_mode": {
    "name": "ipython",
    "version": 2
   },
   "file_extension": ".py",
   "mimetype": "text/x-python",
   "name": "python",
   "nbconvert_exporter": "python",
   "pygments_lexer": "ipython2",
   "version": "2.7.12"
  }
 },
 "nbformat": 4,
 "nbformat_minor": 1
}
