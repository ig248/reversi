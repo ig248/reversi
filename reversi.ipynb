{
 "cells": [
  {
   "cell_type": "code",
   "execution_count": 11,
   "metadata": {
    "collapsed": false
   },
   "outputs": [],
   "source": [
    "class Board(object):\n",
    "    size = 8\n",
    "    \n",
    "    def __init__(self):\n",
    "        \"\"\"Reset board to starting position\"\"\"\n",
    "        self.board = [[0 for i in xrange(self.size)]\n",
    "            for j in xrange(self.size)]\n",
    "        # 1 = black, -1 = white\n",
    "        self.board[4][3] = 1\n",
    "        self.board[3][4] = 1\n",
    "        self.board[3][3] = -1\n",
    "        self.board[4][4] = -1\n",
    "    \n",
    "    \n",
    "    @property\n",
    "    def score(self):\n",
    "        \"\"\"Compute totals for each player\"\"\"\n",
    "        b, w = 0, 0\n",
    "        for c in self.flattened:\n",
    "            if c > 0:\n",
    "                b += 1\n",
    "            if c < 0:\n",
    "                w += 1\n",
    "        return b, w\n",
    "        \n",
    "    @property\n",
    "    def flattened(self):\n",
    "        return [c for row in self.board for c in row] \n",
    "    \n",
    "    def __str__(self):\n",
    "        \"\"\"Return a string representation of the board\"\"\"\n",
    "        chars = {\n",
    "            0: \".\",\n",
    "            1: \"Ø\",  #®\n",
    "            -1: \"O\",  #©\n",
    "        }\n",
    "        def row_str(row):\n",
    "            cell_chars = [chars[r] for r in row]\n",
    "            return ''.join(cell_chars)\n",
    "        \n",
    "        row_strings = [row_str(row) for row in self.board]\n",
    "        return '\\n'.join(row_strings) \n",
    "        \n",
    "    def __repr__(self):\n",
    "        return str(self)\n"
   ]
  },
  {
   "cell_type": "code",
   "execution_count": 12,
   "metadata": {
    "collapsed": false
   },
   "outputs": [
    {
     "data": {
      "text/plain": [
       "........\n",
       "........\n",
       "........\n",
       "...OØ...\n",
       "...ØO...\n",
       "........\n",
       "........\n",
       "........"
      ]
     },
     "execution_count": 12,
     "metadata": {},
     "output_type": "execute_result"
    }
   ],
   "source": [
    "b = Board()\n",
    "b"
   ]
  },
  {
   "cell_type": "code",
   "execution_count": 70,
   "metadata": {
    "collapsed": false
   },
   "outputs": [
    {
     "data": {
      "text/plain": [
       "(2, 2)"
      ]
     },
     "execution_count": 70,
     "metadata": {},
     "output_type": "execute_result"
    }
   ],
   "source": [
    "b.score"
   ]
  },
  {
   "cell_type": "code",
   "execution_count": null,
   "metadata": {
    "collapsed": true
   },
   "outputs": [],
   "source": []
  }
 ],
 "metadata": {
  "anaconda-cloud": {},
  "kernelspec": {
   "display_name": "Python [default]",
   "language": "python",
   "name": "python2"
  },
  "language_info": {
   "codemirror_mode": {
    "name": "ipython",
    "version": 2
   },
   "file_extension": ".py",
   "mimetype": "text/x-python",
   "name": "python",
   "nbconvert_exporter": "python",
   "pygments_lexer": "ipython2",
   "version": "2.7.12"
  }
 },
 "nbformat": 4,
 "nbformat_minor": 1
}
