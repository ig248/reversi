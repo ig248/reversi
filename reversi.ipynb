{
 "cells": [
  {
   "cell_type": "code",
   "execution_count": 14,
   "metadata": {
    "collapsed": true
   },
   "outputs": [],
   "source": [
    "import numpy as np"
   ]
  },
  {
   "cell_type": "code",
   "execution_count": 207,
   "metadata": {},
   "outputs": [],
   "source": [
    "PLAYER_B = 1\n",
    "PLAYER_W = -PLAYER_B\n",
    "CELL_EMPTY = 0\n",
    "DIRNS = np.array([(xs, ys) for xs in [-1, 0, 1] for ys in [-1, 0, 1] if xs or ys])\n",
    "\n",
    "def shift_indices(shift, side):\n",
    "    \"\"\"get indices for shifting array in one dimension\"\"\"\n",
    "    if shift == 0:\n",
    "        orig_idx = range(side)\n",
    "        shifted_idx = range(side)\n",
    "    elif shift > 0:\n",
    "        orig_idx = range(side - shift)\n",
    "        shifted_idx = range(shift, side)\n",
    "    elif shift < 0:\n",
    "        orig_idx = range(-shift, side)\n",
    "        shifted_idx = range(side + shift)\n",
    "    else:\n",
    "        orig_idx, shifted_idx = None, None\n",
    "    return orig_idx, shifted_idx\n",
    "\n",
    "class Game(object):\n",
    "    side = 8\n",
    "    \n",
    "    def __init__(self):\n",
    "        \"\"\"Reset board to starting position\"\"\"\n",
    "        self.reset()\n",
    "        self.turn = PLAYER_B # whos turn is next\n",
    "    \n",
    "    def reset(self):\n",
    "        \"\"\"Reset board to starting position\"\"\"\n",
    "        self.board = np.zeros((self.side, self.side), dtype=np.int8)\n",
    "        # 1 = black, -1 = white\n",
    "        self.board[4, 3] = 1\n",
    "        self.board[3, 4] = 1\n",
    "        self.board[3, 3] = -1\n",
    "        self.board[4, 4] = -1\n",
    "    \n",
    "    def _neighbour_candidate_cells(self):\n",
    "        \"\"\"List neighbours that would make turn candidates\n",
    "        a cell is a good candidate if (a) it is empty and (b) any neighbour is the opposite of self.turn\n",
    "        \"\"\"\n",
    "        empty_cells = np.zeros((self.side, self.side), dtype=np.int8)\n",
    "        empty_cells[self.board == CELL_EMPTY] = 1\n",
    "        # suitable neighbours with opponents stones\n",
    "        opponent_cells = np.zeros((self.side, self.side), dtype=np.int8)\n",
    "        opponent_cells[self.board == self.opponent] = 1\n",
    "        # 8 possible directions to a neighbour\n",
    "        shifts = DIRNS\n",
    "        # an 8x8x9 array of conditions \n",
    "        neighbour_array = np.zeros((len(shifts), self.side, self.side), dtype=np.int8)\n",
    "        for idx, (rs, cs) in enumerate(shifts):\n",
    "            ridx_orig, ridx_shifted = shift_indices(rs, self.side)\n",
    "            cidx_orig, cidx_shifted = shift_indices(cs, self.side)\n",
    "            neighbour_array[np.ix_([idx], ridx_shifted, cidx_shifted)] = opponent_cells[np.ix_(ridx_orig, cidx_orig)]\n",
    "        # cells that have a neighbour of opponent's colour\n",
    "        cells_with_opponent_neighbours = np.any(neighbour_array, axis=0)\n",
    "        candidates = np.logical_and(empty_cells, cells_with_opponent_neighbours)\n",
    "        return candidates\n",
    "    \n",
    "    def _attemp_turn(self, r, c):\n",
    "        \"\"\"Attempt to place the next piece at (r, c)\n",
    "        Turn is decided based on self.turn\n",
    "        \"\"\"\n",
    "        # if we are trying to place in a non-empty cell, return\n",
    "        if self.board[r, c] != CELL_EMPTY:\n",
    "            return False   \n",
    "        \n",
    "        # else, try to turn along each diagonal\n",
    "        turned_idx = []\n",
    "        for (rs, cs) in DIRNS:\n",
    "            rr, cc = r + rs, c + cs\n",
    "            diag_turned_idx = []\n",
    "            diag_terminated = False\n",
    "            # proceed until we hit an edge, or an empty cell, or our own cell\n",
    "            while 0 <= rr and rr < self.side and 0 <= cc and cc < self.side:\n",
    "                if self.board[rr, cc] == self.opponent: # continue along unbroken line of opponent's stones\n",
    "                    diag_turned_idx += [(rr, cc)]\n",
    "                    rr, cc = rr + rs, cc + cs\n",
    "                elif self.board[rr, cc] == self.player: # terminate at our own stone\n",
    "                    diag_terminated = True\n",
    "                    break\n",
    "                elif self.board[rr, cc] == CELL_EMPTY: # terminate (unsuccesfully) at an empty cell\n",
    "                    break\n",
    "            # if diagonal completed successfully, append cells to be turned\n",
    "            if diag_terminated:\n",
    "                turned_idx += diag_turned_idx\n",
    "        \n",
    "        # if we have turned stones along any of the diagonals\n",
    "        if turned_idx:\n",
    "            ridx, cidx = zip(*turned_idx)\n",
    "            self.board[ridx, cidx] = self.player\n",
    "            self.board[r, c] = self.player\n",
    "            self.turn = self.opponent\n",
    "            return True\n",
    "        else:\n",
    "            return False\n",
    "    \n",
    "    @property\n",
    "    def player(self):\n",
    "        \"\"\"current player\"\"\"\n",
    "        return self.turn\n",
    "    \n",
    "    @property\n",
    "    def opponent(self):\n",
    "        \"\"\"opponent player\"\"\"\n",
    "        return -self.turn\n",
    "    \n",
    "    @property\n",
    "    def score(self):\n",
    "        \"\"\"Compute totals for each player\"\"\"\n",
    "        counts = dict(zip(*np.unique(self.board, return_counts=True)))\n",
    "        b, w = counts[1], counts[-1]\n",
    "        return b, w\n",
    "    \n",
    "    def __repr__(self):\n",
    "        return str(self)\n",
    "    \n",
    "    def __str__(self):\n",
    "        \"\"\"Return a string representation of the board\"\"\"\n",
    "        chars = {\n",
    "            0: \".\",\n",
    "            1: \"Ø\",  #®\n",
    "            -1: \"O\",  #©\n",
    "        }\n",
    "        def row_str(row):\n",
    "            cell_chars = [chars[r] for r in row]\n",
    "            return ''.join(cell_chars)\n",
    "        row_strings = [row_str(row) for row in self.board]\n",
    "        score_string = 'Score: B=%d, W=%d' % self.score\n",
    "        turn_string = 'Next turn: %s' % ('B' if self.turn == PLAYER_B else 'W')\n",
    "        return '\\n'.join([score_string, turn_string] + row_strings) \n",
    "        \n",
    "    "
   ]
  },
  {
   "cell_type": "code",
   "execution_count": 208,
   "metadata": {},
   "outputs": [
    {
     "name": "stdout",
     "output_type": "stream",
     "text": [
      "Score: B=2, W=2\n",
      "Next turn: B\n",
      "........\n",
      "........\n",
      "........\n",
      "...OØ...\n",
      "...ØO...\n",
      "........\n",
      "........\n",
      "........\n"
     ]
    }
   ],
   "source": [
    "g = Game()\n",
    "print g"
   ]
  },
  {
   "cell_type": "code",
   "execution_count": 209,
   "metadata": {},
   "outputs": [
    {
     "name": "stdout",
     "output_type": "stream",
     "text": [
      "True\n",
      "True\n"
     ]
    }
   ],
   "source": [
    "print g._attemp_turn(2,3)\n",
    "print g._attemp_turn(2,2)"
   ]
  },
  {
   "cell_type": "code",
   "execution_count": 210,
   "metadata": {},
   "outputs": [
    {
     "data": {
      "text/plain": [
       "Score: B=3, W=3\n",
       "Next turn: B\n",
       "........\n",
       "........\n",
       "..OØ....\n",
       "...OØ...\n",
       "...ØO...\n",
       "........\n",
       "........\n",
       "........"
      ]
     },
     "execution_count": 210,
     "metadata": {},
     "output_type": "execute_result"
    }
   ],
   "source": [
    "g"
   ]
  },
  {
   "cell_type": "code",
   "execution_count": null,
   "metadata": {
    "collapsed": true
   },
   "outputs": [],
   "source": []
  }
 ],
 "metadata": {
  "anaconda-cloud": {},
  "kernelspec": {
   "display_name": "Python [default]",
   "language": "python",
   "name": "python2"
  },
  "language_info": {
   "codemirror_mode": {
    "name": "ipython",
    "version": 2
   },
   "file_extension": ".py",
   "mimetype": "text/x-python",
   "name": "python",
   "nbconvert_exporter": "python",
   "pygments_lexer": "ipython2",
   "version": "2.7.12"
  }
 },
 "nbformat": 4,
 "nbformat_minor": 1
}
